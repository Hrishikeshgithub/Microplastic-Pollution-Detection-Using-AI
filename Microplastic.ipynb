{
  "nbformat": 4,
  "nbformat_minor": 0,
  "metadata": {
    "colab": {
      "provenance": []
    },
    "kernelspec": {
      "name": "python3",
      "display_name": "Python 3"
    },
    "language_info": {
      "name": "python"
    }
  },
  "cells": [
    {
      "cell_type": "markdown",
      "source": [
        "1. Import Required Libraries"
      ],
      "metadata": {
        "id": "a0uov0PDDG9D"
      }
    },
    {
      "cell_type": "code",
      "source": [
        "import pandas as pd\n",
        "import numpy as np\n",
        "from sklearn.model_selection import train_test_split\n",
        "from sklearn.linear_model import LogisticRegression\n",
        "from sklearn.metrics import accuracy_score, precision_score, recall_score, f1_score, confusion_matrix\n",
        "import matplotlib.pyplot as plt\n",
        "import seaborn as sns\n",
        "import joblib"
      ],
      "metadata": {
        "id": "bPiSGbL0CCs0"
      },
      "execution_count": 9,
      "outputs": []
    },
    {
      "cell_type": "markdown",
      "source": [
        "2. Prepare the Dataset\n",
        "Features:\n",
        "\n",
        "ph: pH level of water\n",
        "\n",
        "Hardness: Water hardness (mg/L as CaCO3)\n",
        "\n",
        "Solids: Total dissolved solids (ppm)\n",
        "\n",
        "Chloramines: Chloramines concentration (ppm)\n",
        "\n",
        "Sulfate: Sulfate concentration (mg/L)\n",
        "\n",
        "Conductivity: Electrical conductivity (µS/cm)\n",
        "\n",
        "Organic_carbon: Organic carbon concentration (ppm)\n",
        "\n",
        "Trihalomethanes: Trihalomethanes concentration (µg/L)\n",
        "\n",
        "Turbidity: Turbidity of water (NTU)\n",
        "\n",
        "Target:\n",
        "Potability: Whether water is potable (0 = not potable, 1 = potable)\n",
        "\n",
        "2.1 Load Dataset"
      ],
      "metadata": {
        "id": "V00x5yCcDQli"
      }
    },
    {
      "cell_type": "code",
      "source": [
        "# Upload the CSV file in Google Colab\n",
        "from google.colab import files\n",
        "uploaded = files.upload()\n",
        "\n",
        "# Load the dataset (replace 'water_quality.csv' with your actual file name after upload)\n",
        "df = pd.read_csv('microplastic_data.csv')  # Name it whatever you save it as\n",
        "\n",
        "# Display the first few rows and column names\n",
        "print(\"Dataset Preview:\")\n",
        "print(df.head())\n",
        "print(\"\\nColumn Names in Dataset:\")\n",
        "print(df.columns.tolist())"
      ],
      "metadata": {
        "colab": {
          "base_uri": "https://localhost:8080/",
          "height": 381
        },
        "id": "4VWCEsgsCCqk",
        "outputId": "5e60a260-0f9c-46a3-8ebd-ab5a854737ee"
      },
      "execution_count": 12,
      "outputs": [
        {
          "output_type": "display_data",
          "data": {
            "text/plain": [
              "<IPython.core.display.HTML object>"
            ],
            "text/html": [
              "\n",
              "     <input type=\"file\" id=\"files-66befea9-2ef8-4cec-bfc1-45d241f5b134\" name=\"files[]\" multiple disabled\n",
              "        style=\"border:none\" />\n",
              "     <output id=\"result-66befea9-2ef8-4cec-bfc1-45d241f5b134\">\n",
              "      Upload widget is only available when the cell has been executed in the\n",
              "      current browser session. Please rerun this cell to enable.\n",
              "      </output>\n",
              "      <script>// Copyright 2017 Google LLC\n",
              "//\n",
              "// Licensed under the Apache License, Version 2.0 (the \"License\");\n",
              "// you may not use this file except in compliance with the License.\n",
              "// You may obtain a copy of the License at\n",
              "//\n",
              "//      http://www.apache.org/licenses/LICENSE-2.0\n",
              "//\n",
              "// Unless required by applicable law or agreed to in writing, software\n",
              "// distributed under the License is distributed on an \"AS IS\" BASIS,\n",
              "// WITHOUT WARRANTIES OR CONDITIONS OF ANY KIND, either express or implied.\n",
              "// See the License for the specific language governing permissions and\n",
              "// limitations under the License.\n",
              "\n",
              "/**\n",
              " * @fileoverview Helpers for google.colab Python module.\n",
              " */\n",
              "(function(scope) {\n",
              "function span(text, styleAttributes = {}) {\n",
              "  const element = document.createElement('span');\n",
              "  element.textContent = text;\n",
              "  for (const key of Object.keys(styleAttributes)) {\n",
              "    element.style[key] = styleAttributes[key];\n",
              "  }\n",
              "  return element;\n",
              "}\n",
              "\n",
              "// Max number of bytes which will be uploaded at a time.\n",
              "const MAX_PAYLOAD_SIZE = 100 * 1024;\n",
              "\n",
              "function _uploadFiles(inputId, outputId) {\n",
              "  const steps = uploadFilesStep(inputId, outputId);\n",
              "  const outputElement = document.getElementById(outputId);\n",
              "  // Cache steps on the outputElement to make it available for the next call\n",
              "  // to uploadFilesContinue from Python.\n",
              "  outputElement.steps = steps;\n",
              "\n",
              "  return _uploadFilesContinue(outputId);\n",
              "}\n",
              "\n",
              "// This is roughly an async generator (not supported in the browser yet),\n",
              "// where there are multiple asynchronous steps and the Python side is going\n",
              "// to poll for completion of each step.\n",
              "// This uses a Promise to block the python side on completion of each step,\n",
              "// then passes the result of the previous step as the input to the next step.\n",
              "function _uploadFilesContinue(outputId) {\n",
              "  const outputElement = document.getElementById(outputId);\n",
              "  const steps = outputElement.steps;\n",
              "\n",
              "  const next = steps.next(outputElement.lastPromiseValue);\n",
              "  return Promise.resolve(next.value.promise).then((value) => {\n",
              "    // Cache the last promise value to make it available to the next\n",
              "    // step of the generator.\n",
              "    outputElement.lastPromiseValue = value;\n",
              "    return next.value.response;\n",
              "  });\n",
              "}\n",
              "\n",
              "/**\n",
              " * Generator function which is called between each async step of the upload\n",
              " * process.\n",
              " * @param {string} inputId Element ID of the input file picker element.\n",
              " * @param {string} outputId Element ID of the output display.\n",
              " * @return {!Iterable<!Object>} Iterable of next steps.\n",
              " */\n",
              "function* uploadFilesStep(inputId, outputId) {\n",
              "  const inputElement = document.getElementById(inputId);\n",
              "  inputElement.disabled = false;\n",
              "\n",
              "  const outputElement = document.getElementById(outputId);\n",
              "  outputElement.innerHTML = '';\n",
              "\n",
              "  const pickedPromise = new Promise((resolve) => {\n",
              "    inputElement.addEventListener('change', (e) => {\n",
              "      resolve(e.target.files);\n",
              "    });\n",
              "  });\n",
              "\n",
              "  const cancel = document.createElement('button');\n",
              "  inputElement.parentElement.appendChild(cancel);\n",
              "  cancel.textContent = 'Cancel upload';\n",
              "  const cancelPromise = new Promise((resolve) => {\n",
              "    cancel.onclick = () => {\n",
              "      resolve(null);\n",
              "    };\n",
              "  });\n",
              "\n",
              "  // Wait for the user to pick the files.\n",
              "  const files = yield {\n",
              "    promise: Promise.race([pickedPromise, cancelPromise]),\n",
              "    response: {\n",
              "      action: 'starting',\n",
              "    }\n",
              "  };\n",
              "\n",
              "  cancel.remove();\n",
              "\n",
              "  // Disable the input element since further picks are not allowed.\n",
              "  inputElement.disabled = true;\n",
              "\n",
              "  if (!files) {\n",
              "    return {\n",
              "      response: {\n",
              "        action: 'complete',\n",
              "      }\n",
              "    };\n",
              "  }\n",
              "\n",
              "  for (const file of files) {\n",
              "    const li = document.createElement('li');\n",
              "    li.append(span(file.name, {fontWeight: 'bold'}));\n",
              "    li.append(span(\n",
              "        `(${file.type || 'n/a'}) - ${file.size} bytes, ` +\n",
              "        `last modified: ${\n",
              "            file.lastModifiedDate ? file.lastModifiedDate.toLocaleDateString() :\n",
              "                                    'n/a'} - `));\n",
              "    const percent = span('0% done');\n",
              "    li.appendChild(percent);\n",
              "\n",
              "    outputElement.appendChild(li);\n",
              "\n",
              "    const fileDataPromise = new Promise((resolve) => {\n",
              "      const reader = new FileReader();\n",
              "      reader.onload = (e) => {\n",
              "        resolve(e.target.result);\n",
              "      };\n",
              "      reader.readAsArrayBuffer(file);\n",
              "    });\n",
              "    // Wait for the data to be ready.\n",
              "    let fileData = yield {\n",
              "      promise: fileDataPromise,\n",
              "      response: {\n",
              "        action: 'continue',\n",
              "      }\n",
              "    };\n",
              "\n",
              "    // Use a chunked sending to avoid message size limits. See b/62115660.\n",
              "    let position = 0;\n",
              "    do {\n",
              "      const length = Math.min(fileData.byteLength - position, MAX_PAYLOAD_SIZE);\n",
              "      const chunk = new Uint8Array(fileData, position, length);\n",
              "      position += length;\n",
              "\n",
              "      const base64 = btoa(String.fromCharCode.apply(null, chunk));\n",
              "      yield {\n",
              "        response: {\n",
              "          action: 'append',\n",
              "          file: file.name,\n",
              "          data: base64,\n",
              "        },\n",
              "      };\n",
              "\n",
              "      let percentDone = fileData.byteLength === 0 ?\n",
              "          100 :\n",
              "          Math.round((position / fileData.byteLength) * 100);\n",
              "      percent.textContent = `${percentDone}% done`;\n",
              "\n",
              "    } while (position < fileData.byteLength);\n",
              "  }\n",
              "\n",
              "  // All done.\n",
              "  yield {\n",
              "    response: {\n",
              "      action: 'complete',\n",
              "    }\n",
              "  };\n",
              "}\n",
              "\n",
              "scope.google = scope.google || {};\n",
              "scope.google.colab = scope.google.colab || {};\n",
              "scope.google.colab._files = {\n",
              "  _uploadFiles,\n",
              "  _uploadFilesContinue,\n",
              "};\n",
              "})(self);\n",
              "</script> "
            ]
          },
          "metadata": {}
        },
        {
          "output_type": "stream",
          "name": "stdout",
          "text": [
            "Saving microplastic_data.csv to microplastic_data (3).csv\n",
            "Dataset Preview:\n",
            "         ph    Hardness       Solids  Chloramines     Sulfate  Conductivity  \\\n",
            "0       NaN  204.890456  20791.31898     7.300212  368.516441    564.308654   \n",
            "1  3.716080  129.422921  18630.05786     6.635246         NaN    592.885359   \n",
            "2  8.099124  224.236259  19909.54173     9.275884         NaN    418.606213   \n",
            "3  8.316766  214.373394  22018.41744     8.059332  356.886136    363.266516   \n",
            "4  9.092223  181.101509  17978.98634     6.546600  310.135738    398.410813   \n",
            "\n",
            "   Organic_carbon  Trihalomethanes  Turbidity  Potability  \n",
            "0       10.379783        86.990970   2.963135           0  \n",
            "1       15.180013        56.329076   4.500656           0  \n",
            "2       16.868637        66.420093   3.055934           0  \n",
            "3       18.436525       100.341674   4.628771           0  \n",
            "4       11.558279        31.997993   4.075075           0  \n",
            "\n",
            "Column Names in Dataset:\n",
            "['ph', 'Hardness', 'Solids', 'Chloramines', 'Sulfate', 'Conductivity', 'Organic_carbon', 'Trihalomethanes', 'Turbidity', 'Potability']\n"
          ]
        }
      ]
    },
    {
      "cell_type": "markdown",
      "source": [
        "2.2 Select Features and Target Variable"
      ],
      "metadata": {
        "id": "Fq40sbDqDeix"
      }
    },
    {
      "cell_type": "code",
      "source": [
        "# Handle missing values (replace empty strings or NaN with median for simplicity)\n",
        "df = df.replace('', np.nan)  # Replace empty strings with NaN\n",
        "df = df.fillna(df.median())   # Fill NaN with median of each column\n",
        "\n",
        "# Select features and target\n",
        "X = df[['ph', 'Hardness', 'Solids', 'Chloramines', 'Sulfate', 'Conductivity',\n",
        "        'Organic_carbon', 'Trihalomethanes', 'Turbidity']]\n",
        "y = df['Potability']\n",
        "\n",
        "# Check for missing values after preprocessing\n",
        "print(\"Missing values in dataset:\")\n",
        "print(df.isnull().sum())\n"
      ],
      "metadata": {
        "colab": {
          "base_uri": "https://localhost:8080/"
        },
        "id": "Ai0Puvw1CCn8",
        "outputId": "c83b3d7d-9037-4025-be84-c5ffb3b61ced"
      },
      "execution_count": 13,
      "outputs": [
        {
          "output_type": "stream",
          "name": "stdout",
          "text": [
            "Missing values in dataset:\n",
            "ph                 0\n",
            "Hardness           0\n",
            "Solids             0\n",
            "Chloramines        0\n",
            "Sulfate            0\n",
            "Conductivity       0\n",
            "Organic_carbon     0\n",
            "Trihalomethanes    0\n",
            "Turbidity          0\n",
            "Potability         0\n",
            "dtype: int64\n"
          ]
        }
      ]
    },
    {
      "cell_type": "markdown",
      "source": [
        "3. Train a Logistic Regression Model\n",
        "\n",
        "3.1 Split the Dataset into Training and Testing Sets (80% Train, 20% Test)"
      ],
      "metadata": {
        "id": "-MBaRZaEDh9R"
      }
    },
    {
      "cell_type": "code",
      "source": [
        "X_train, X_test, y_train, y_test = train_test_split(X, y, test_size=0.2, random_state=42)\n",
        "print(\"Training set shape:\", X_train.shape)\n",
        "print(\"Testing set shape:\", X_test.shape)\n"
      ],
      "metadata": {
        "colab": {
          "base_uri": "https://localhost:8080/"
        },
        "id": "RS3HMqgJCCeG",
        "outputId": "d94ab479-46e3-414c-af19-77702822ef4e"
      },
      "execution_count": 14,
      "outputs": [
        {
          "output_type": "stream",
          "name": "stdout",
          "text": [
            "Training set shape: (2620, 9)\n",
            "Testing set shape: (656, 9)\n"
          ]
        }
      ]
    },
    {
      "cell_type": "markdown",
      "source": [
        "3.2 Initialize and Train the Logistic Regression Model"
      ],
      "metadata": {
        "id": "HZIknTzEDncR"
      }
    },
    {
      "cell_type": "code",
      "source": [
        "# Initialize the Logistic Regression model\n",
        "log_model = LogisticRegression(max_iter=1000)  # Increased max_iter for convergence\n",
        "\n",
        "# Train the model\n",
        "log_model.fit(X_train, y_train)\n",
        "\n",
        "# Display coefficients\n",
        "print(\"Model Coefficients:\", log_model.coef_)\n",
        "print(\"Intercept:\", log_model.intercept_)\n"
      ],
      "metadata": {
        "colab": {
          "base_uri": "https://localhost:8080/"
        },
        "id": "hvHpzbixCCbs",
        "outputId": "aa3e6fa5-efbb-4b78-945e-7601925e1429"
      },
      "execution_count": 15,
      "outputs": [
        {
          "output_type": "stream",
          "name": "stdout",
          "text": [
            "Model Coefficients: [[-9.51408543e-03 -9.98966396e-04  8.42369911e-06  2.13315718e-02\n",
            "  -7.99387490e-04 -6.84442914e-05 -1.68753394e-02  1.49189773e-03\n",
            "  -1.65032551e-02]]\n",
            "Intercept: [-0.00043688]\n"
          ]
        },
        {
          "output_type": "stream",
          "name": "stderr",
          "text": [
            "/usr/local/lib/python3.11/dist-packages/sklearn/linear_model/_logistic.py:465: ConvergenceWarning: lbfgs failed to converge (status=1):\n",
            "STOP: TOTAL NO. of ITERATIONS REACHED LIMIT.\n",
            "\n",
            "Increase the number of iterations (max_iter) or scale the data as shown in:\n",
            "    https://scikit-learn.org/stable/modules/preprocessing.html\n",
            "Please also refer to the documentation for alternative solver options:\n",
            "    https://scikit-learn.org/stable/modules/linear_model.html#logistic-regression\n",
            "  n_iter_i = _check_optimize_result(\n"
          ]
        }
      ]
    },
    {
      "cell_type": "markdown",
      "source": [
        "4. Evaluate the Model\n",
        "\n",
        "\n",
        "4.1 Predicting Potability on the Test Set"
      ],
      "metadata": {
        "id": "xn1Hlf59DrKp"
      }
    },
    {
      "cell_type": "code",
      "source": [
        "# Predict on the test set\n",
        "y_pred = log_model.predict(X_test)\n",
        "\n",
        "# Display a few predicted vs actual values\n",
        "print(\"Sample Predicted vs Actual Values:\")\n",
        "for i in range(5):\n",
        "    print(f\"Predicted: {y_pred[i]}, Actual: {y_test.iloc[i]}\")"
      ],
      "metadata": {
        "colab": {
          "base_uri": "https://localhost:8080/"
        },
        "id": "L-S91W3jCCZD",
        "outputId": "a49fba48-e095-4d4e-98d7-423421df8b19"
      },
      "execution_count": 16,
      "outputs": [
        {
          "output_type": "stream",
          "name": "stdout",
          "text": [
            "Sample Predicted vs Actual Values:\n",
            "Predicted: 0, Actual: 0\n",
            "Predicted: 0, Actual: 1\n",
            "Predicted: 0, Actual: 0\n",
            "Predicted: 0, Actual: 0\n",
            "Predicted: 0, Actual: 1\n"
          ]
        }
      ]
    },
    {
      "cell_type": "markdown",
      "source": [
        "4.2 Evaluate the Model Performance"
      ],
      "metadata": {
        "id": "aA96rSWADwSB"
      }
    },
    {
      "cell_type": "code",
      "source": [
        "# Calculate evaluation metrics\n",
        "accuracy = accuracy_score(y_test, y_pred)\n",
        "precision = precision_score(y_test, y_pred)\n",
        "recall = recall_score(y_test, y_pred)\n",
        "f1 = f1_score(y_test, y_pred)\n",
        "\n",
        "# Print results\n",
        "print(f\"Accuracy: {accuracy:.2f}\")\n",
        "print(f\"Precision: {precision:.2f}\")\n",
        "print(f\"Recall: {recall:.2f}\")\n",
        "print(f\"F1-Score: {f1:.2f}\")\n",
        "\n",
        "# Confusion Matrix\n",
        "cm = confusion_matrix(y_test, y_pred)\n",
        "plt.figure(figsize=(6, 4))\n",
        "sns.heatmap(cm, annot=True, fmt='d', cmap='Blues', cbar=False)\n",
        "plt.title('Confusion Matrix')\n",
        "plt.xlabel('Predicted')\n",
        "plt.ylabel('Actual')\n",
        "plt.show()"
      ],
      "metadata": {
        "colab": {
          "base_uri": "https://localhost:8080/",
          "height": 539
        },
        "id": "0THjmp04CCWc",
        "outputId": "c274c3af-c9e9-4ead-c586-0cb57a44843a"
      },
      "execution_count": 17,
      "outputs": [
        {
          "output_type": "stream",
          "name": "stderr",
          "text": [
            "/usr/local/lib/python3.11/dist-packages/sklearn/metrics/_classification.py:1565: UndefinedMetricWarning: Precision is ill-defined and being set to 0.0 due to no predicted samples. Use `zero_division` parameter to control this behavior.\n",
            "  _warn_prf(average, modifier, f\"{metric.capitalize()} is\", len(result))\n"
          ]
        },
        {
          "output_type": "stream",
          "name": "stdout",
          "text": [
            "Accuracy: 0.63\n",
            "Precision: 0.00\n",
            "Recall: 0.00\n",
            "F1-Score: 0.00\n"
          ]
        },
        {
          "output_type": "display_data",
          "data": {
            "text/plain": [
              "<Figure size 600x400 with 1 Axes>"
            ],
            "image/png": "[encoded data removed]"
          },
          "metadata": {}
        }
      ]
    },
    {
      "cell_type": "markdown",
      "source": [
        "5. Visualization"
      ],
      "metadata": {
        "id": "46fjpxACD0QJ"
      }
    },
    {
      "cell_type": "code",
      "source": [
        "# Feature Importance (absolute coefficients)\n",
        "feature_importance = np.abs(log_model.coef_[0])\n",
        "features = X.columns\n",
        "plt.figure(figsize=(10, 6))\n",
        "sns.barplot(x=feature_importance, y=features)\n",
        "plt.title('Feature Importance in Logistic Regression')\n",
        "plt.xlabel('Absolute Coefficient Value')\n",
        "plt.show()"
      ],
      "metadata": {
        "colab": {
          "base_uri": "https://localhost:8080/",
          "height": 564
        },
        "id": "OXJSuD-UCwsK",
        "outputId": "131b2bc6-f1ab-4015-ca07-36f4a83ddad2"
      },
      "execution_count": 18,
      "outputs": [
        {
          "output_type": "display_data",
          "data": {
            "text/plain": [
              "<Figure size 1000x600 with 1 Axes>"
            ],
            "image/png": "[encoded data removed]"
          },
          "metadata": {}
        }
      ]
    },
    {
      "cell_type": "markdown",
      "source": [
        "6. Save the Model for Later Use"
      ],
      "metadata": {
        "id": "viUcnctVD30B"
      }
    },
    {
      "cell_type": "code",
      "source": [
        "joblib.dump(log_model, 'water_potability_model.pkl')\n",
        "print(\"Model saved as 'water_potability_model.pkl'\")"
      ],
      "metadata": {
        "colab": {
          "base_uri": "https://localhost:8080/"
        },
        "id": "_rcMxIJSCwpq",
        "outputId": "3509b400-414a-4ca3-f485-328093a016fd"
      },
      "execution_count": 19,
      "outputs": [
        {
          "output_type": "stream",
          "name": "stdout",
          "text": [
            "Model saved as 'water_potability_model.pkl'\n"
          ]
        }
      ]
    },
    {
      "cell_type": "markdown",
      "source": [
        "7. Load and Use the Model"
      ],
      "metadata": {
        "id": "tJ1O8D7ZD6gp"
      }
    },
    {
      "cell_type": "code",
      "source": [
        "# Load the saved model\n",
        "loaded_model = joblib.load('water_potability_model.pkl')\n",
        "\n",
        "# Example: Predict on a new sample\n",
        "new_sample = np.array([[7.0, 200, 20000, 7.0, 350, 400, 15, 60, 4]])  # Replace with realistic values\n",
        "new_prediction = loaded_model.predict(new_sample)\n",
        "print(f\"Predicted Potability for new sample: {new_prediction[0]} (0 = Not Potable, 1 = Potable)\")"
      ],
      "metadata": {
        "colab": {
          "base_uri": "https://localhost:8080/"
        },
        "id": "ZJ4PlMDSCwib",
        "outputId": "d8fbec03-48df-43dd-cd84-3e53919c7a67"
      },
      "execution_count": 20,
      "outputs": [
        {
          "output_type": "stream",
          "name": "stdout",
          "text": [
            "Predicted Potability for new sample: 0 (0 = Not Potable, 1 = Potable)\n"
          ]
        },
        {
          "output_type": "stream",
          "name": "stderr",
          "text": [
            "/usr/local/lib/python3.11/dist-packages/sklearn/utils/validation.py:2739: UserWarning: X does not have valid feature names, but LogisticRegression was fitted with feature names\n",
            "  warnings.warn(\n"
          ]
        }
      ]
    },
    {
      "cell_type": "code",
      "source": [
        "# Load the saved model (assuming it’s already saved from the previous step)\n",
        "loaded_model = joblib.load('water_potability_model.pkl')\n",
        "\n",
        "# Example 1: A sample with typical values (potentially potable)\n",
        "new_sample_1 = np.array([[7.0, 200, 20000, 7.0, 350, 400, 15, 60, 4]])\n",
        "prediction_1 = loaded_model.predict(new_sample_1)\n",
        "print(f\"Sample 1 - Predicted Potability: {prediction_1[0]} (0 = Not Potable, 1 = Potable)\")\n",
        "print(f\"Details: ph=7.0, Hardness=200, Solids=20000, Chloramines=7.0, Sulfate=350, Conductivity=400, Organic_carbon=15, Trihalomethanes=60, Turbidity=4\\n\")\n",
        "\n",
        "# Example 2: A sample with high solids and turbidity (likely not potable)\n",
        "new_sample_2 = np.array([[6.5, 250, 40000, 8.0, 300, 500, 20, 90, 5.5]])\n",
        "prediction_2 = loaded_model.predict(new_sample_2)\n",
        "print(f\"Sample 2 - Predicted Potability: {prediction_2[0]} (0 = Not Potable, 1 = Potable)\")\n",
        "print(f\"Details: ph=6.5, Hardness=250, Solids=40000, Chloramines=8.0, Sulfate=300, Conductivity=500, Organic_carbon=20, Trihalomethanes=90, Turbidity=5.5\\n\")\n",
        "\n",
        "# Example 3: A sample with low contaminants (likely potable)\n",
        "new_sample_3 = np.array([[7.5, 180, 10000, 5.0, 320, 350, 10, 40, 3.0]])\n",
        "prediction_3 = loaded_model.predict(new_sample_3)\n",
        "print(f\"Sample 3 - Predicted Potability: {prediction_3[0]} (0 = Not Potable, 1 = Potable)\")\n",
        "print(f\"Details: ph=7.5, Hardness=180, Solids=10000, Chloramines=5.0, Sulfate=320, Conductivity=350, Organic_carbon=10, Trihalomethanes=40, Turbidity=3.0\")"
      ],
      "metadata": {
        "colab": {
          "base_uri": "https://localhost:8080/"
        },
        "id": "ZeBjTYd0CwVi",
        "outputId": "c4f9655d-1fc8-4d44-83ef-14b89dae3468"
      },
      "execution_count": 21,
      "outputs": [
        {
          "output_type": "stream",
          "name": "stdout",
          "text": [
            "Sample 1 - Predicted Potability: 0 (0 = Not Potable, 1 = Potable)\n",
            "Details: ph=7.0, Hardness=200, Solids=20000, Chloramines=7.0, Sulfate=350, Conductivity=400, Organic_carbon=15, Trihalomethanes=60, Turbidity=4\n",
            "\n",
            "Sample 2 - Predicted Potability: 0 (0 = Not Potable, 1 = Potable)\n",
            "Details: ph=6.5, Hardness=250, Solids=40000, Chloramines=8.0, Sulfate=300, Conductivity=500, Organic_carbon=20, Trihalomethanes=90, Turbidity=5.5\n",
            "\n",
            "Sample 3 - Predicted Potability: 0 (0 = Not Potable, 1 = Potable)\n",
            "Details: ph=7.5, Hardness=180, Solids=10000, Chloramines=5.0, Sulfate=320, Conductivity=350, Organic_carbon=10, Trihalomethanes=40, Turbidity=3.0\n"
          ]
        },
        {
          "output_type": "stream",
          "name": "stderr",
          "text": [
            "/usr/local/lib/python3.11/dist-packages/sklearn/utils/validation.py:2739: UserWarning: X does not have valid feature names, but LogisticRegression was fitted with feature names\n",
            "  warnings.warn(\n",
            "/usr/local/lib/python3.11/dist-packages/sklearn/utils/validation.py:2739: UserWarning: X does not have valid feature names, but LogisticRegression was fitted with feature names\n",
            "  warnings.warn(\n",
            "/usr/local/lib/python3.11/dist-packages/sklearn/utils/validation.py:2739: UserWarning: X does not have valid feature names, but LogisticRegression was fitted with feature names\n",
            "  warnings.warn(\n"
          ]
        }
      ]
    }
  ]
}